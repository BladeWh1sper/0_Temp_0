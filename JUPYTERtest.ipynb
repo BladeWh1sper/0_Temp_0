{
 "cells": [
  {
   "cell_type": "code",
   "execution_count": 1,
   "metadata": {},
   "outputs": [
    {
     "name": "stdout",
     "output_type": "stream",
     "text": [
      "Hello World\n"
     ]
    }
   ],
   "source": [
    "print(\"Hello World\")"
   ]
  },
  {
   "cell_type": "code",
   "execution_count": 2,
   "metadata": {},
   "outputs": [],
   "source": [
    "import time\n",
    "time.sleep(3)"
   ]
  },
  {
   "cell_type": "code",
   "execution_count": 3,
   "metadata": {},
   "outputs": [
    {
     "data": {
      "text/plain": [
       "'Hello, Tim!'"
      ]
     },
     "execution_count": 3,
     "metadata": {},
     "output_type": "execute_result"
    }
   ],
   "source": [
    "def say_hello(recipient):\n",
    "    return 'Hello, {}!'.format(recipient)\n",
    "\n",
    "say_hello('Tim')"
   ]
  },
  {
   "cell_type": "code",
   "execution_count": 4,
   "metadata": {},
   "outputs": [],
   "source": [
    "import numpy as np\n",
    "\n",
    "def square(x):\n",
    "    return x * x\n"
   ]
  },
  {
   "cell_type": "code",
   "execution_count": 5,
   "metadata": {},
   "outputs": [
    {
     "name": "stdout",
     "output_type": "stream",
     "text": [
      "2 squared is 4\n"
     ]
    }
   ],
   "source": [
    "x = np.random.randint(1, 10)\n",
    "y = square(x)\n",
    "\n",
    "print('%d squared is %d' % (x, y))"
   ]
  },
  {
   "cell_type": "code",
   "execution_count": 6,
   "metadata": {},
   "outputs": [
    {
     "name": "stdout",
     "output_type": "stream",
     "text": [
      "9 squared is 81\n"
     ]
    }
   ],
   "source": [
    "x = np.random.randint(1, 10)\n",
    "y = square(x)\n",
    "\n",
    "print('%d squared is %d' % (x, y))"
   ]
  },
  {
   "cell_type": "code",
   "execution_count": 7,
   "metadata": {},
   "outputs": [],
   "source": [
    "y = 10\n"
   ]
  },
  {
   "cell_type": "code",
   "execution_count": 8,
   "metadata": {},
   "outputs": [
    {
     "name": "stdout",
     "output_type": "stream",
     "text": [
      "Is 9 squared is 10?\n"
     ]
    }
   ],
   "source": [
    "print('Is %d squared is %d?' % (x, y))\n"
   ]
  },
  {
   "cell_type": "code",
   "execution_count": 1,
   "metadata": {},
   "outputs": [],
   "source": [
    "import pandas as pd\n",
    "import random\n",
    " "
   ]
  },
  {
   "cell_type": "code",
   "execution_count": 2,
   "metadata": {},
   "outputs": [
    {
     "name": "stdout",
     "output_type": "stream",
     "text": [
      "  first_name   last_name             company_name            address  \\\n",
      "0    Aleshia  Tomkiewicz  Alan D Rosenburg Cpa Pc       14 Taylor St   \n",
      "1       Evan   Zigomalas       Cap Gemini America        5 Binney St   \n",
      "2     France     Andrade      Elliott, John W Esq       8 Moor Place   \n",
      "3    Ulysses   Mcwalters           Mcmahan, Ben L      505 Exeter Rd   \n",
      "4     Tyisha      Veness           Champagne Room  5396 Forth Street   \n",
      "\n",
      "                             city           county    postal        phone1  \\\n",
      "0               St. Stephens Ward             Kent   CT2 7PP  01835-703597   \n",
      "1                      Abbey Ward  Buckinghamshire  HP11 2AX  01937-864715   \n",
      "2  East Southbourne and Tuckton W      Bournemouth   BH6 3BE  01347-368222   \n",
      "3              Hawerby cum Beesby     Lincolnshire  DN36 5RP  01912-771311   \n",
      "4      Greets Green and Lyng Ward    West Midlands   B70 9DT  01547-429341   \n",
      "\n",
      "         phone2                       email  \\\n",
      "0  01944-369967     atomkiewicz@hotmail.com   \n",
      "1  01714-737668    evan.zigomalas@gmail.com   \n",
      "2  01935-821636  france.andrade@hotmail.com   \n",
      "3  01302-601380         ulysses@hotmail.com   \n",
      "4  01290-367248   tyisha.veness@hotmail.com   \n",
      "\n",
      "                                    web   id  \n",
      "0  http://www.alandrosenburgcpapc.co.uk  708  \n",
      "1     http://www.capgeminiamerica.co.uk  456  \n",
      "2      http://www.elliottjohnwesq.co.uk  333  \n",
      "3          http://www.mcmahanbenl.co.uk   38  \n",
      "4        http://www.champagneroom.co.uk  601  \n"
     ]
    }
   ],
   "source": [
    "# read the data from the downloaded CSV file.\n",
    "data = pd.read_csv('https://s3-eu-west-1.amazonaws.com/shanebucket/downloads/uk-500.csv')\n",
    "# set a numeric id for use as an index for examples.\n",
    "data['id'] = [random.randint(0,1000) for x in range(data.shape[0])]\n",
    " \n",
    "print(data.head(5))"
   ]
  },
  {
   "cell_type": "code",
   "execution_count": 3,
   "metadata": {},
   "outputs": [
    {
     "ename": "SyntaxError",
     "evalue": "invalid syntax (<ipython-input-3-da5bb3a11eee>, line 1)",
     "output_type": "error",
     "traceback": [
      "\u001b[1;36m  File \u001b[1;32m\"<ipython-input-3-da5bb3a11eee>\"\u001b[1;36m, line \u001b[1;32m1\u001b[0m\n\u001b[1;33m    data.iloc[1;2]\u001b[0m\n\u001b[1;37m               ^\u001b[0m\n\u001b[1;31mSyntaxError\u001b[0m\u001b[1;31m:\u001b[0m invalid syntax\n"
     ]
    }
   ],
   "source": [
    "data.iloc[1;2]"
   ]
  },
  {
   "cell_type": "code",
   "execution_count": 4,
   "metadata": {},
   "outputs": [
    {
     "data": {
      "text/plain": [
       "1                  Cap Gemini America\n",
       "2                 Elliott, John W Esq\n",
       "3                      Mcmahan, Ben L\n",
       "4                      Champagne Room\n",
       "5             Thompson, Michael C Esq\n",
       "6       Wrangle Hill Auto Auct & Slvg\n",
       "7               In Communications Inc\n",
       "8                     Bizerba Usa Inc\n",
       "9                           Max Video\n",
       "10               K & R Associates Inc\n",
       "11                   Cain, John M Esq\n",
       "12                  Sound Vision Corp\n",
       "13             Rowley/hansell Petetin\n",
       "14      Industrial Engineering Assocs\n",
       "15                Weiss Spirt & Guyer\n",
       "16              Crowan, Kenneth W Esq\n",
       "17               Rittenhouse Motor Co\n",
       "18               Modern Plastics Corp\n",
       "19           Galloway Electric Co Inc\n",
       "20         Niagara Custombuilt Mfg Co\n",
       "21               Practical Periphrals\n",
       "22             Curtin, Patricia M Esq\n",
       "23                Wilhelm, James E Jr\n",
       "24                        Smart Signs\n",
       "25       Arctic Star Distributing Inc\n",
       "26           Lensbower, Gregory L Esq\n",
       "27              Portal Metal Products\n",
       "28                  Lynema, Cliff Cpa\n",
       "29                    J C S Machinery\n",
       "30               Berick, Joseph G Esq\n",
       "                    ...              \n",
       "470                Dilling Harris Inc\n",
       "471              Horizon Air Magazine\n",
       "472                    Avante Limited\n",
       "473             Miller, William E Iii\n",
       "474                  Martin Morrissey\n",
       "475                   Auto Body Color\n",
       "476                 Fred, Anthony Esq\n",
       "477             Advantage Bookkeeping\n",
       "478             Capital Fasteners Inc\n",
       "479        Cumberland Vacuum Products\n",
       "480            Schwartz, Thomas E Esq\n",
       "481      Alliance Construction Co Inc\n",
       "482                 Keller, Raymond C\n",
       "483           Proto Tek Manufacturing\n",
       "484              Great Clips For Hair\n",
       "485                   Country Kitchen\n",
       "486                 T C E Systems Inc\n",
       "487      Rock Springs Petroleum Equip\n",
       "488                    Howard Johnson\n",
       "489             Harris Oldsmobile Inc\n",
       "490                 Jurdem, Scott Esq\n",
       "491                     Lindner Funds\n",
       "492              Donald, G Nelson Esq\n",
       "493                    Cia Inspection\n",
       "494      Nelsons Trmt & Pest Cntrl Co\n",
       "495        Plaza Gourmet Delicatessen\n",
       "496              Fitzgerald, Edward J\n",
       "497                Furey & Associates\n",
       "498          Bfg Federal Credit Union\n",
       "499    Nelson Wright Haworth Golf Crs\n",
       "Name: company_name, Length: 499, dtype: object"
      ]
     },
     "execution_count": 4,
     "metadata": {},
     "output_type": "execute_result"
    }
   ],
   "source": [
    "data.iloc[1:,2]"
   ]
  },
  {
   "cell_type": "code",
   "execution_count": 6,
   "metadata": {},
   "outputs": [
    {
     "data": {
      "text/plain": [
       "'5 Binney St'"
      ]
     },
     "execution_count": 6,
     "metadata": {},
     "output_type": "execute_result"
    }
   ],
   "source": [
    "data.iloc[1,3]"
   ]
  },
  {
   "cell_type": "code",
   "execution_count": 7,
   "metadata": {},
   "outputs": [
    {
     "data": {
      "text/plain": [
       "'5 Binney St'"
      ]
     },
     "execution_count": 7,
     "metadata": {},
     "output_type": "execute_result"
    }
   ],
   "source": [
    "data.iloc[1,3]"
   ]
  },
  {
   "cell_type": "code",
   "execution_count": 8,
   "metadata": {},
   "outputs": [
    {
     "data": {
      "text/plain": [
       "'East Southbourne and Tuckton W'"
      ]
     },
     "execution_count": 8,
     "metadata": {},
     "output_type": "execute_result"
    }
   ],
   "source": [
    "data.iloc[2,4]"
   ]
  },
  {
   "cell_type": "code",
   "execution_count": null,
   "metadata": {},
   "outputs": [],
   "source": []
  }
 ],
 "metadata": {
  "kernelspec": {
   "display_name": "Python 3",
   "language": "python",
   "name": "python3"
  },
  "language_info": {
   "codemirror_mode": {
    "name": "ipython",
    "version": 3
   },
   "file_extension": ".py",
   "mimetype": "text/x-python",
   "name": "python",
   "nbconvert_exporter": "python",
   "pygments_lexer": "ipython3",
   "version": "3.7.1"
  }
 },
 "nbformat": 4,
 "nbformat_minor": 2
}
